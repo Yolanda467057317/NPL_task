{
 "cells": [
  {
   "cell_type": "code",
   "execution_count": 5,
   "metadata": {},
   "outputs": [
    {
     "name": "stdout",
     "output_type": "stream",
     "text": [
      "1.13.1\n"
     ]
    }
   ],
   "source": [
    "import os\n",
    "import tensorflow as tf\n",
    "from tensorflow import keras\n",
    "import numpy as np\n",
    "\n",
    "print(tf.__version__)\n"
   ]
  },
  {
   "cell_type": "markdown",
   "metadata": {},
   "source": [
    "## IMDB数据集下载和探索\n",
    "\n",
    "数据集来源为IMDB的50000条电影评论，其中25000条消极评论和25000条积极评论。"
   ]
  },
  {
   "cell_type": "code",
   "execution_count": 6,
   "metadata": {},
   "outputs": [
    {
     "name": "stdout",
     "output_type": "stream",
     "text": [
      "Downloading data from https://storage.googleapis.com/tensorflow/tf-keras-datasets/imdb.npz\n",
      "17465344/17464789 [==============================] - 10s 1us/step\n"
     ]
    }
   ],
   "source": [
    "# 从tensorflow加载IMDB数据集 \n",
    "imdb = keras.datasets.imdb\n",
    "(train_data, train_labels), (test_data, test_labels) = imdb.load_data(num_words=10000)"
   ]
  },
  {
   "cell_type": "code",
   "execution_count": 17,
   "metadata": {},
   "outputs": [
    {
     "data": {
      "text/plain": [
       "(218, 189, 141)"
      ]
     },
     "execution_count": 17,
     "metadata": {},
     "output_type": "execute_result"
    }
   ],
   "source": [
    "len(train_data[0]), len(train_data[1]), len(train_data[2])\n"
   ]
  },
  {
   "cell_type": "code",
   "execution_count": 23,
   "metadata": {},
   "outputs": [
    {
     "name": "stdout",
     "output_type": "stream",
     "text": [
      "1 0 0\n"
     ]
    }
   ],
   "source": [
    "print(train_labels[0], train_labels[1], train_labels[2])"
   ]
  },
  {
   "cell_type": "code",
   "execution_count": 19,
   "metadata": {},
   "outputs": [
    {
     "data": {
      "text/plain": [
       "\"<START> this film was just brilliant casting location scenery story direction everyone's really suited the part they played and you could just imagine being there robert <UNK> is an amazing actor and now the same being director <UNK> father came from the same scottish island as myself so i loved the fact there was a real connection with this film the witty remarks throughout the film were great it was just brilliant so much that i bought the film as soon as it was released for <UNK> and would recommend it to everyone to watch and the fly fishing was amazing really cried at the end it was so sad and you know what they say if you cry at a film it must have been good and this definitely was also <UNK> to the two little boy's that played the <UNK> of norman and paul they were just brilliant children are often left out of the <UNK> list i think because the stars that play them all grown up are such a big profile for the whole film but these children are amazing and should be praised for what they have done don't you think the whole story was so lovely because it was true and was someone's life after all that was shared with us all\""
      ]
     },
     "execution_count": 19,
     "metadata": {},
     "output_type": "execute_result"
    }
   ],
   "source": [
    "# 字典：将数字转为单词\n",
    "word_index = imdb.get_word_index()\n",
    "\n",
    "word_index = {k:(v+3) for k,v in word_index.items()}\n",
    "word_index[\"<PAD>\"] = 0 # 用来将每一个sentence扩充到同等长度\n",
    "word_index[\"<START>\"] = 1\n",
    "word_index[\"<UNK>\"] = 2 \n",
    "word_index[\"UNUSED\"] = 3\n",
    "\n",
    "reverse_word_index = dict([(value,key) for (key,value) in word_index.items()])\n",
    " \n",
    "# 转译为原句\n",
    "def decode_review(text):\n",
    "    return ' '.join([reverse_word_index.get(i,'?') for i in text])\n",
    "decode_review(train_data[0])"
   ]
  },
  {
   "cell_type": "markdown",
   "metadata": {},
   "source": [
    "影评（整数数组）必须转换为张量，然后才能馈送到神经网络中。\n",
    "我们可以通过以下两种方法实现这种转换：\n",
    "\n",
    "1.对数组进行独热编码，将它们转换为由 0 和 1 构成的向量。例如，序列 [3, 5] 将变成一个 10000 维的向量，除索引 3 和 5 转换为 1 之外，其余全转换为 0。然后，将它作为网络的第一层，一个可以处理浮点向量数据的密集层。不过，这种方法会占用大量内存，需要一个大小为 num_words * num_reviews 的矩阵。\n",
    "\n",
    "2.可以填充数组，使它们都具有相同的长度，然后创建一个形状为 max_length * num_reviews 的整数张量。我们可以使用一个能够处理这种形状的嵌入层作为网络中的第一层。"
   ]
  },
  {
   "cell_type": "code",
   "execution_count": 24,
   "metadata": {},
   "outputs": [],
   "source": [
    "train_data = keras.preprocessing.sequence.pad_sequences(train_data,\n",
    "                                                        value=word_index[\"<PAD>\"],\n",
    "                                                        padding='post',\n",
    "                                                        maxlen=256)\n",
    "\n",
    "test_data = keras.preprocessing.sequence.pad_sequences(test_data,\n",
    "                                                       value=word_index[\"<PAD>\"],\n",
    "                                                       padding='post',\n",
    "                                                       maxlen=256)"
   ]
  },
  {
   "cell_type": "code",
   "execution_count": 25,
   "metadata": {},
   "outputs": [
    {
     "data": {
      "text/plain": [
       "(256, 256, 256)"
      ]
     },
     "execution_count": 25,
     "metadata": {},
     "output_type": "execute_result"
    }
   ],
   "source": [
    "len(train_data[0]), len(train_data[1]), len(train_data[2])"
   ]
  },
  {
   "cell_type": "markdown",
   "metadata": {},
   "source": [
    "构建模型\n",
    "神经网络通过堆叠层创建而成，这需要做出两个架构方面的主要决策：\n",
    "\n",
    "要在模型中使用多少个层？\n",
    "要针对每个层使用多少个隐藏单元？\n",
    "在本示例中，输入数据由字词-索引数组构成。\n",
    "要预测的标签是 0 或 1。\n",
    "\n",
    "构建模型\n",
    "\n",
    "输入数据是单词组合，标签是0或者1\n",
    "先进行数据稀疏稠密化，因为sequence里面的word_index值是[0~10000]内稀疏的，所以将每一个单词用一个16维的向量代替；input(1024,256)output(1024,256,16)\n",
    "再通过均值的池化层，将每一个sequence做均值，类似于将单词合并 ;input(1024,256,16),output(1024,16)\n",
    "全连接层采用relu激活函数;input(1024,16),output(1024,16)\n",
    "全连接层采用sigmoid激活函数；input(1024,16),output(1024,1)"
   ]
  },
  {
   "cell_type": "code",
   "execution_count": 26,
   "metadata": {},
   "outputs": [
    {
     "name": "stdout",
     "output_type": "stream",
     "text": [
      "WARNING:tensorflow:From C:\\Anaconda3\\lib\\site-packages\\tensorflow\\python\\ops\\resource_variable_ops.py:435: colocate_with (from tensorflow.python.framework.ops) is deprecated and will be removed in a future version.\n",
      "Instructions for updating:\n",
      "Colocations handled automatically by placer.\n",
      "_________________________________________________________________\n",
      "Layer (type)                 Output Shape              Param #   \n",
      "=================================================================\n",
      "embedding (Embedding)        (None, None, 16)          160000    \n",
      "_________________________________________________________________\n",
      "global_average_pooling1d (Gl (None, 16)                0         \n",
      "_________________________________________________________________\n",
      "dense (Dense)                (None, 16)                272       \n",
      "_________________________________________________________________\n",
      "dense_1 (Dense)              (None, 1)                 17        \n",
      "=================================================================\n",
      "Total params: 160,289\n",
      "Trainable params: 160,289\n",
      "Non-trainable params: 0\n",
      "_________________________________________________________________\n"
     ]
    }
   ],
   "source": [
    "# input shape is the vocabulary count used for the movie reviews (10,000 words)\n",
    "vocab_size = 10000\n",
    "\n",
    "model = keras.Sequential()\n",
    "model.add(keras.layers.Embedding(vocab_size, 16))\n",
    "model.add(keras.layers.GlobalAveragePooling1D())\n",
    "model.add(keras.layers.Dense(16, activation=tf.nn.relu))\n",
    "model.add(keras.layers.Dense(1, activation=tf.nn.sigmoid))\n",
    "\n",
    "model.summary()"
   ]
  },
  {
   "cell_type": "markdown",
   "metadata": {},
   "source": [
    "按顺序堆叠各个层以构建分类器：\n",
    "\n",
    "第一层是 Embedding 层。该层会在整数编码的词汇表中查找每个字词-索引的嵌入向量。模型在接受训练时会学习这些向量。这些向量会向输出数组添加一个维度。生成的维度为：(batch, sequence, embedding)。\n",
    "接下来，一个 GlobalAveragePooling1D 层通过对序列维度求平均值，针对每个样本返回一个长度固定的输出向量。这样，模型便能够以尽可能简单的方式处理各种长度的输入。\n",
    "该长度固定的输出向量会传入一个全连接 (Dense) 层（包含 16 个隐藏单元）。\n",
    "最后一层与单个输出节点密集连接。应用 sigmoid 激活函数后，结果是介于 0 到 1 之间的浮点值，表示概率或置信水平。\n",
    "\n",
    "隐藏单元\n",
    "上述模型在输入和输出之间有两个中间层（也称为“隐藏”层）。输出（单元、节点或神经元）的数量是相应层的表示法空间的维度。换句话说，该数值表示学习内部表示法时网络所允许的自由度。\n",
    "\n",
    "如果模型具有更多隐藏单元（更高维度的表示空间）和/或更多层，则说明网络可以学习更复杂的表示法。不过，这会使网络耗费更多计算资源，并且可能导致学习不必要的模式（可以优化在训练数据上的表现，但不会优化在测试数据上的表现）。这称为过拟合，我们稍后会加以探讨。\n",
    "\n",
    "损失函数和优化器\n",
    "模型在训练时需要一个损失函数和一个优化器。由于这是一个二元分类问题且模型会输出一个概率（应用 S 型激活函数的单个单元层），因此我们将使用 binary_crossentropy 损失函数。\n",
    "\n",
    "该函数并不是唯一的损失函数，例如，您可以选择 mean_squared_error。但一般来说，binary_crossentropy 更适合处理概率问题，它可测量概率分布之间的“差距”，在本例中则为实际分布和预测之间的“差距”。\n",
    "\n",
    "稍后，在探索回归问题（比如预测房价）时，我们将了解如何使用另一个称为均方误差的损失函数。\n",
    "\n",
    "现在，配置模型以使用优化器和损失函数："
   ]
  },
  {
   "cell_type": "code",
   "execution_count": 27,
   "metadata": {},
   "outputs": [],
   "source": [
    "model.compile(optimizer=tf.train.AdamOptimizer(),\n",
    "              loss='binary_crossentropy',\n",
    "              metrics=['accuracy'])"
   ]
  },
  {
   "cell_type": "code",
   "execution_count": 28,
   "metadata": {},
   "outputs": [
    {
     "name": "stdout",
     "output_type": "stream",
     "text": [
      "Train on 15000 samples, validate on 10000 samples\n",
      "WARNING:tensorflow:From C:\\Anaconda3\\lib\\site-packages\\tensorflow\\python\\ops\\math_ops.py:3066: to_int32 (from tensorflow.python.ops.math_ops) is deprecated and will be removed in a future version.\n",
      "Instructions for updating:\n",
      "Use tf.cast instead.\n",
      "Epoch 1/40\n",
      "15000/15000 [==============================] - 4s 290us/sample - loss: 0.6916 - acc: 0.5507 - val_loss: 0.6893 - val_acc: 0.6036\n",
      "Epoch 2/40\n",
      "15000/15000 [==============================] - 2s 164us/sample - loss: 0.6850 - acc: 0.6928 - val_loss: 0.6809 - val_acc: 0.6981\n",
      "Epoch 3/40\n",
      "15000/15000 [==============================] - 2s 155us/sample - loss: 0.6718 - acc: 0.7403 - val_loss: 0.6647 - val_acc: 0.7482\n",
      "Epoch 4/40\n",
      "15000/15000 [==============================] - 3s 168us/sample - loss: 0.6492 - acc: 0.7557 - val_loss: 0.6392 - val_acc: 0.7751\n",
      "Epoch 5/40\n",
      "15000/15000 [==============================] - 2s 164us/sample - loss: 0.6165 - acc: 0.7914 - val_loss: 0.6055 - val_acc: 0.7906\n",
      "Epoch 6/40\n",
      "15000/15000 [==============================] - 3s 170us/sample - loss: 0.5754 - acc: 0.8187 - val_loss: 0.5662 - val_acc: 0.8033\n",
      "Epoch 7/40\n",
      "15000/15000 [==============================] - 2s 165us/sample - loss: 0.5295 - acc: 0.8334 - val_loss: 0.5230 - val_acc: 0.8235\n",
      "Epoch 8/40\n",
      "15000/15000 [==============================] - 3s 167us/sample - loss: 0.4831 - acc: 0.8509 - val_loss: 0.4828 - val_acc: 0.8352\n",
      "Epoch 9/40\n",
      "15000/15000 [==============================] - 2s 165us/sample - loss: 0.4396 - acc: 0.8633 - val_loss: 0.4460 - val_acc: 0.8454\n",
      "Epoch 10/40\n",
      "15000/15000 [==============================] - 2s 163us/sample - loss: 0.4004 - acc: 0.8767 - val_loss: 0.4148 - val_acc: 0.8533\n",
      "Epoch 11/40\n",
      "15000/15000 [==============================] - 2s 154us/sample - loss: 0.3663 - acc: 0.8832 - val_loss: 0.3885 - val_acc: 0.8595\n",
      "Epoch 12/40\n",
      "15000/15000 [==============================] - 2s 165us/sample - loss: 0.3374 - acc: 0.8914 - val_loss: 0.3683 - val_acc: 0.8632\n",
      "Epoch 13/40\n",
      "15000/15000 [==============================] - 3s 167us/sample - loss: 0.3135 - acc: 0.8975 - val_loss: 0.3504 - val_acc: 0.8696\n",
      "Epoch 14/40\n",
      "15000/15000 [==============================] - 2s 151us/sample - loss: 0.2923 - acc: 0.9029 - val_loss: 0.3375 - val_acc: 0.8730\n",
      "Epoch 15/40\n",
      "15000/15000 [==============================] - 2s 160us/sample - loss: 0.2747 - acc: 0.9068 - val_loss: 0.3265 - val_acc: 0.8756\n",
      "Epoch 16/40\n",
      "15000/15000 [==============================] - 2s 164us/sample - loss: 0.2589 - acc: 0.9137 - val_loss: 0.3179 - val_acc: 0.8765\n",
      "Epoch 17/40\n",
      "15000/15000 [==============================] - 2s 159us/sample - loss: 0.2444 - acc: 0.9177 - val_loss: 0.3106 - val_acc: 0.8796\n",
      "Epoch 18/40\n",
      "15000/15000 [==============================] - 2s 160us/sample - loss: 0.2317 - acc: 0.9216 - val_loss: 0.3042 - val_acc: 0.8811\n",
      "Epoch 19/40\n",
      "15000/15000 [==============================] - 2s 166us/sample - loss: 0.2202 - acc: 0.9241 - val_loss: 0.2992 - val_acc: 0.8818\n",
      "Epoch 20/40\n",
      "15000/15000 [==============================] - 2s 165us/sample - loss: 0.2099 - acc: 0.9282 - val_loss: 0.2958 - val_acc: 0.8826\n",
      "Epoch 21/40\n",
      "15000/15000 [==============================] - 2s 157us/sample - loss: 0.1994 - acc: 0.9337 - val_loss: 0.2929 - val_acc: 0.8834\n",
      "Epoch 22/40\n",
      "15000/15000 [==============================] - 3s 167us/sample - loss: 0.1906 - acc: 0.9360 - val_loss: 0.2900 - val_acc: 0.8842\n",
      "Epoch 23/40\n",
      "15000/15000 [==============================] - 3s 167us/sample - loss: 0.1819 - acc: 0.9403 - val_loss: 0.2890 - val_acc: 0.8844\n",
      "Epoch 24/40\n",
      "15000/15000 [==============================] - 2s 158us/sample - loss: 0.1742 - acc: 0.9439 - val_loss: 0.2881 - val_acc: 0.8854\n",
      "Epoch 25/40\n",
      "15000/15000 [==============================] - 3s 167us/sample - loss: 0.1665 - acc: 0.9475 - val_loss: 0.2862 - val_acc: 0.8857\n",
      "Epoch 26/40\n",
      "15000/15000 [==============================] - 3s 168us/sample - loss: 0.1595 - acc: 0.9494 - val_loss: 0.2872 - val_acc: 0.8842\n",
      "Epoch 27/40\n",
      "15000/15000 [==============================] - 3s 172us/sample - loss: 0.1530 - acc: 0.9525 - val_loss: 0.2866 - val_acc: 0.8859\n",
      "Epoch 28/40\n",
      "15000/15000 [==============================] - 3s 168us/sample - loss: 0.1466 - acc: 0.9553 - val_loss: 0.2877 - val_acc: 0.8860\n",
      "Epoch 29/40\n",
      "15000/15000 [==============================] - 2s 156us/sample - loss: 0.1411 - acc: 0.9579 - val_loss: 0.2887 - val_acc: 0.8850\n",
      "Epoch 30/40\n",
      "15000/15000 [==============================] - 2s 165us/sample - loss: 0.1354 - acc: 0.9593 - val_loss: 0.2887 - val_acc: 0.8864\n",
      "Epoch 31/40\n",
      "15000/15000 [==============================] - 2s 165us/sample - loss: 0.1295 - acc: 0.9627 - val_loss: 0.2897 - val_acc: 0.8863\n",
      "Epoch 32/40\n",
      "15000/15000 [==============================] - 2s 158us/sample - loss: 0.1243 - acc: 0.9649 - val_loss: 0.2914 - val_acc: 0.8860\n",
      "Epoch 33/40\n",
      "15000/15000 [==============================] - 2s 165us/sample - loss: 0.1192 - acc: 0.9664 - val_loss: 0.2938 - val_acc: 0.8857\n",
      "Epoch 34/40\n",
      "15000/15000 [==============================] - 2s 162us/sample - loss: 0.1147 - acc: 0.9674 - val_loss: 0.2963 - val_acc: 0.8852\n",
      "Epoch 35/40\n",
      "15000/15000 [==============================] - 2s 158us/sample - loss: 0.1106 - acc: 0.9682 - val_loss: 0.2985 - val_acc: 0.8855\n",
      "Epoch 36/40\n",
      "15000/15000 [==============================] - 3s 170us/sample - loss: 0.1061 - acc: 0.9709 - val_loss: 0.3006 - val_acc: 0.8844\n",
      "Epoch 37/40\n",
      "15000/15000 [==============================] - 2s 165us/sample - loss: 0.1017 - acc: 0.9727 - val_loss: 0.3036 - val_acc: 0.8837\n",
      "Epoch 38/40\n",
      "15000/15000 [==============================] - 2s 165us/sample - loss: 0.0977 - acc: 0.9740 - val_loss: 0.3074 - val_acc: 0.8835\n",
      "Epoch 39/40\n",
      "15000/15000 [==============================] - 3s 169us/sample - loss: 0.0946 - acc: 0.9747 - val_loss: 0.3113 - val_acc: 0.8827\n",
      "Epoch 40/40\n",
      "15000/15000 [==============================] - 2s 160us/sample - loss: 0.0905 - acc: 0.9769 - val_loss: 0.3143 - val_acc: 0.8830\n"
     ]
    }
   ],
   "source": [
    "x_val = train_data[:10000]\n",
    "partial_x_train = train_data[10000:]\n",
    "\n",
    "y_val = train_labels[:10000]\n",
    "partial_y_train = train_labels[10000:]\n",
    "\n",
    "history = model.fit(partial_x_train,\n",
    "                    partial_y_train,\n",
    "                    epochs=40,\n",
    "                    batch_size=512,\n",
    "                    validation_data=(x_val, y_val),\n",
    "                    verbose=1)"
   ]
  },
  {
   "cell_type": "code",
   "execution_count": 29,
   "metadata": {},
   "outputs": [
    {
     "name": "stdout",
     "output_type": "stream",
     "text": [
      "25000/25000 [==============================] - 2s 66us/sample - loss: 0.3360 - acc: 0.8711\n",
      "[0.33595064166069033, 0.87108]\n"
     ]
    }
   ],
   "source": [
    "results = model.evaluate(test_data, test_labels)\n",
    "\n",
    "print(results)"
   ]
  },
  {
   "cell_type": "code",
   "execution_count": 32,
   "metadata": {},
   "outputs": [
    {
     "data": {
      "image/png": "[encoded data removed]",
      "text/plain": [
       "<Figure size 432x288 with 1 Axes>"
      ]
     },
     "metadata": {
      "needs_background": "light"
     },
     "output_type": "display_data"
    }
   ],
   "source": [
    "history_dict = history.history\n",
    "history_dict.keys()\n",
    "\n",
    "import matplotlib.pyplot as plt\n",
    "\n",
    "acc = history.history['acc']\n",
    "val_acc = history.history['val_acc']\n",
    "loss = history.history['loss']\n",
    "val_loss = history.history['val_loss']\n",
    "\n",
    "epochs = range(1, len(acc) + 1)\n",
    "\n",
    "# \"bo\" is for \"blue dot\"\n",
    "plt.plot(epochs, loss, 'bo', label='Training loss')\n",
    "# b is for \"solid blue line\"\n",
    "plt.plot(epochs, val_loss, 'b', label='Validation loss')\n",
    "plt.title('Training and validation loss')\n",
    "plt.xlabel('Epochs')\n",
    "plt.ylabel('Loss')\n",
    "plt.legend()\n",
    "\n",
    "plt.show()\n",
    "\n"
   ]
  },
  {
   "cell_type": "code",
   "execution_count": 33,
   "metadata": {},
   "outputs": [
    {
     "data": {
      "image/png": "[encoded data removed]",
      "text/plain": [
       "<Figure size 432x288 with 1 Axes>"
      ]
     },
     "metadata": {
      "needs_background": "light"
     },
     "output_type": "display_data"
    }
   ],
   "source": [
    "\n",
    "plt.clf()   # clear figure\n",
    "acc_values = history_dict['acc']\n",
    "val_acc_values = history_dict['val_acc']\n",
    "\n",
    "plt.plot(epochs, acc, 'bo', label='Training acc')\n",
    "plt.plot(epochs, val_acc, 'b', label='Validation acc')\n",
    "plt.title('Training and validation accuracy')\n",
    "plt.xlabel('Epochs')\n",
    "plt.ylabel('Accuracy')\n",
    "plt.legend()\n",
    "\n",
    "plt.show()"
   ]
  },
  {
   "cell_type": "markdown",
   "metadata": {},
   "source": [
    "## THUCNews"
   ]
  },
  {
   "cell_type": "code",
   "execution_count": 34,
   "metadata": {
    "scrolled": true
   },
   "outputs": [
    {
     "name": "stdout",
     "output_type": "stream",
     "text": [
      "train_dir D:\u0001python_workspace\\some work\\datawhale_NLP\\cnews\\cnews.train.txt\n",
      "test_dir D:\u0001python_workspace\\some work\\datawhale_NLP\\cnews\\cnews.test.txt\n",
      "val_dir D:\u0001python_workspace\\some work\\datawhale_NLP\\cnews\\cnews.val.txt\n",
      "vocab_dir D:\u0001python_workspace\\some work\\datawhale_NLP\\cnews\\cnews.vocab.txt\n"
     ]
    }
   ],
   "source": [
    "import os\n",
    "import tensorflow as tf\n",
    "from tensorflow import keras\n",
    "import numpy as np\n",
    "\n",
    "base_dir = 'D:\\1python_workspace\\some work\\datawhale_NLP\\cnews'\n",
    "train_dir = os.path.join(base_dir, 'cnews.train.txt')\n",
    "test_dir = os.path.join(base_dir, 'cnews.test.txt')\n",
    "val_dir = os.path.join(base_dir, 'cnews.val.txt')\n",
    "vocab_dir = os.path.join(base_dir, 'cnews.vocab.txt')\n",
    "\n",
    "print ('train_dir',train_dir)\n",
    "print ('test_dir',test_dir)\n",
    "print ('val_dir',val_dir)\n",
    "print ('vocab_dir',vocab_dir)"
   ]
  },
  {
   "cell_type": "code",
   "execution_count": null,
   "metadata": {},
   "outputs": [],
   "source": [
    "def build_vocab(train_dir, vocab_dir, vocab_size=5000):\n",
    "    \"\"\"根据训练集构建词汇表，存储\"\"\"\n",
    "    data_train, _ = read_file(train_dir)  ##data_train存储的是一个一个的文本\n",
    "    print(data_train)\n",
    " \n",
    "    all_data = []\n",
    "    for content in data_train:\n",
    "        all_data.extend(content)\n",
    " \n",
    "    counter = Counter(all_data)\n",
    "    count_pairs = counter.most_common(vocab_size - 1)\n",
    "    words, _ = list(zip(*count_pairs))\n",
    "    # 添加一个 <PAD> 来将所有文本pad为同一长度\n",
    "    words = ['<PAD>'] + list(words)\n",
    "open_file(vocab_dir, mode='w').write('\\n'.join(words) + '\\n')\n",
    "\n",
    "def read_file(filename):\n",
    "    \"\"\"读取文件数据\"\"\"\n",
    "    contents, labels = [], []\n",
    "    with open_file(filename) as f:\n",
    "        for line in f:\n",
    "            try:\n",
    "                label, content = line.strip().split('\\t')\n",
    "                if content:\n",
    "                    contents.append(list(native_content(content)))\n",
    "                    labels.append(native_content(label))\n",
    "            except:\n",
    "                pass\n",
    "    return contents, labels\n",
    "\n",
    "\n",
    "def open_file(filename, mode='r'):\n",
    "    \"\"\"\n",
    "    常用文件操作，可在python2和python3间切换.\n",
    "    mode: 'r' or 'w' for read or write\n",
    "    \"\"\"\n",
    "    if is_py3:\n",
    "        return open(filename, mode, encoding='utf-8', errors='ignore')\n",
    "    else:\n",
    "        return open(filename, mode)\n",
    "    \n",
    "\n",
    "def read_category(categories):\n",
    "    \"\"\"读取分类目录，固定\"\"\"\n",
    "    categories = ['入户盗窃', '扒窃', '一般盗窃']\n",
    "    categories = [native_content(x) for x in categories]\n",
    " \n",
    "    cat_to_id = dict(zip(categories, range(len(categories)))) #将类别分别进行id的转换\n",
    " \n",
    "return categories, cat_to_id\n",
    "\n",
    "\n",
    "def read_vocab(vocab_dir):\n",
    "    \"\"\"读取词汇表\"\"\"\n",
    "    with open_file(vocab_dir) as fp:\n",
    "        # 如果是py2 则每个值都转化为unicode\n",
    "        words = [native_content(_.strip()) for _ in fp.readlines()]\n",
    "    word_to_id = dict(zip(words, range(len(words))))\n",
    "    return words, word_to_id\n",
    "\n",
    "\n"
   ]
  }
 ],
 "metadata": {
  "kernelspec": {
   "display_name": "Python 3",
   "language": "python",
   "name": "python3"
  },
  "language_info": {
   "codemirror_mode": {
    "name": "ipython",
    "version": 3
   },
   "file_extension": ".py",
   "mimetype": "text/x-python",
   "name": "python",
   "nbconvert_exporter": "python",
   "pygments_lexer": "ipython3",
   "version": "3.7.2"
  }
 },
 "nbformat": 4,
 "nbformat_minor": 2
}
